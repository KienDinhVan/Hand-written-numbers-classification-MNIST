{
 "cells": [
  {
   "cell_type": "code",
   "execution_count": 31,
   "metadata": {},
   "outputs": [],
   "source": [
    "import torch\n",
    "from torch import optim, nn\n",
    "import torchvision.transforms as transform\n",
    "import torchvision.datasets as dsets\n",
    "import numpy as np\n",
    "import torch.nn.functional as func\n",
    "import matplotlib.pyplot as plt\n",
    "from torch.utils.data import DataLoader"
   ]
  },
  {
   "cell_type": "code",
   "execution_count": 5,
   "metadata": {},
   "outputs": [],
   "source": [
    "def show_data(data_sample):\n",
    "    plt.imshow(data_sample.numpy().reshape(28,28),cmap='gray')\n",
    "    plt.show()"
   ]
  },
  {
   "cell_type": "markdown",
   "metadata": {},
   "source": [
    "### Basic Neural Network"
   ]
  },
  {
   "cell_type": "code",
   "execution_count": 21,
   "metadata": {},
   "outputs": [],
   "source": [
    "class Net(nn.Module):\n",
    "    def __init__(self,D_in,H,D_out):\n",
    "        super(Net,self).__init__()\n",
    "        self.linear1= nn.Linear(D_in,H)\n",
    "        self.linear2=nn.Linear(H,D_out)\n",
    "    def forward(self,x):\n",
    "        x= torch.sigmoid(self.linear1(x))\n",
    "        x= self.linear2(x)\n",
    "        return x"
   ]
  },
  {
   "cell_type": "code",
   "execution_count": 5,
   "metadata": {},
   "outputs": [
    {
     "name": "stdout",
     "output_type": "stream",
     "text": [
      "Downloading http://yann.lecun.com/exdb/mnist/train-images-idx3-ubyte.gz\n",
      "Failed to download (trying next):\n",
      "HTTP Error 403: Forbidden\n",
      "\n",
      "Downloading https://ossci-datasets.s3.amazonaws.com/mnist/train-images-idx3-ubyte.gz\n",
      "Downloading https://ossci-datasets.s3.amazonaws.com/mnist/train-images-idx3-ubyte.gz to ./data\\MNIST\\raw\\train-images-idx3-ubyte.gz\n"
     ]
    },
    {
     "name": "stderr",
     "output_type": "stream",
     "text": [
      "100%|██████████| 9912422/9912422 [00:12<00:00, 762550.85it/s] \n"
     ]
    },
    {
     "name": "stdout",
     "output_type": "stream",
     "text": [
      "Extracting ./data\\MNIST\\raw\\train-images-idx3-ubyte.gz to ./data\\MNIST\\raw\n",
      "\n",
      "Downloading http://yann.lecun.com/exdb/mnist/train-labels-idx1-ubyte.gz\n",
      "Failed to download (trying next):\n",
      "HTTP Error 403: Forbidden\n",
      "\n",
      "Downloading https://ossci-datasets.s3.amazonaws.com/mnist/train-labels-idx1-ubyte.gz\n",
      "Downloading https://ossci-datasets.s3.amazonaws.com/mnist/train-labels-idx1-ubyte.gz to ./data\\MNIST\\raw\\train-labels-idx1-ubyte.gz\n"
     ]
    },
    {
     "name": "stderr",
     "output_type": "stream",
     "text": [
      "100%|██████████| 28881/28881 [00:00<00:00, 108819.01it/s]\n"
     ]
    },
    {
     "name": "stdout",
     "output_type": "stream",
     "text": [
      "Extracting ./data\\MNIST\\raw\\train-labels-idx1-ubyte.gz to ./data\\MNIST\\raw\n",
      "\n",
      "Downloading http://yann.lecun.com/exdb/mnist/t10k-images-idx3-ubyte.gz\n",
      "Failed to download (trying next):\n",
      "HTTP Error 403: Forbidden\n",
      "\n",
      "Downloading https://ossci-datasets.s3.amazonaws.com/mnist/t10k-images-idx3-ubyte.gz\n",
      "Downloading https://ossci-datasets.s3.amazonaws.com/mnist/t10k-images-idx3-ubyte.gz to ./data\\MNIST\\raw\\t10k-images-idx3-ubyte.gz\n"
     ]
    },
    {
     "name": "stderr",
     "output_type": "stream",
     "text": [
      "100%|██████████| 1648877/1648877 [00:03<00:00, 470950.26it/s]\n"
     ]
    },
    {
     "name": "stdout",
     "output_type": "stream",
     "text": [
      "Extracting ./data\\MNIST\\raw\\t10k-images-idx3-ubyte.gz to ./data\\MNIST\\raw\n",
      "\n",
      "Downloading http://yann.lecun.com/exdb/mnist/t10k-labels-idx1-ubyte.gz\n",
      "Failed to download (trying next):\n",
      "HTTP Error 403: Forbidden\n",
      "\n",
      "Downloading https://ossci-datasets.s3.amazonaws.com/mnist/t10k-labels-idx1-ubyte.gz\n",
      "Downloading https://ossci-datasets.s3.amazonaws.com/mnist/t10k-labels-idx1-ubyte.gz to ./data\\MNIST\\raw\\t10k-labels-idx1-ubyte.gz\n"
     ]
    },
    {
     "name": "stderr",
     "output_type": "stream",
     "text": [
      "100%|██████████| 4542/4542 [00:00<00:00, 1142460.50it/s]"
     ]
    },
    {
     "name": "stdout",
     "output_type": "stream",
     "text": [
      "Extracting ./data\\MNIST\\raw\\t10k-labels-idx1-ubyte.gz to ./data\\MNIST\\raw\n",
      "\n"
     ]
    },
    {
     "name": "stderr",
     "output_type": "stream",
     "text": [
      "\n"
     ]
    }
   ],
   "source": [
    "train_data=dsets.MNIST(root='./data',download=True,train=True,transform=transform.ToTensor())\n",
    "validation_data = dsets.MNIST(root='./data',download=True, transform=transform.ToTensor())"
   ]
  },
  {
   "cell_type": "code",
   "execution_count": 11,
   "metadata": {},
   "outputs": [
    {
     "data": {
      "image/png": "[encoded data removed]",
      "text/plain": [
       "<Figure size 640x480 with 1 Axes>"
      ]
     },
     "metadata": {},
     "output_type": "display_data"
    }
   ],
   "source": [
    "data_sample = train_data[1][0]\n",
    "show_data(data_sample)"
   ]
  },
  {
   "cell_type": "code",
   "execution_count": 12,
   "metadata": {},
   "outputs": [],
   "source": [
    "criterion = nn.CrossEntropyLoss()"
   ]
  },
  {
   "cell_type": "code",
   "execution_count": 14,
   "metadata": {},
   "outputs": [],
   "source": [
    "trainloader = DataLoader(dataset=train_data, batch_size=100,shuffle=True)\n",
    "validationloader = DataLoader(dataset=validation_data, batch_size= 1000, shuffle=False)"
   ]
  },
  {
   "cell_type": "code",
   "execution_count": 18,
   "metadata": {},
   "outputs": [
    {
     "name": "stdout",
     "output_type": "stream",
     "text": [
      "Shape of images: torch.Size([100, 1, 28, 28])\n",
      "Shape of labels: torch.Size([100])\n"
     ]
    }
   ],
   "source": [
    "data_iter = iter(trainloader)\n",
    "images, labels = next(data_iter)\n",
    "\n",
    "print(f\"Shape of images: {images.shape}\")\n",
    "print(f\"Shape of labels: {labels.shape}\")"
   ]
  },
  {
   "cell_type": "code",
   "execution_count": 19,
   "metadata": {},
   "outputs": [],
   "source": [
    "def train(model,criterion,trainloader,validationloader,optimizer,epochs=100):\n",
    "    i=0\n",
    "    use = {'train loss' : [],'valid accuracy':[]}\n",
    "    for epoch in range(epochs):\n",
    "        for i,(x,y) in enumerate(trainloader):\n",
    "            yhat = model(x.view(-1,28*28))\n",
    "            loss = criterion(yhat,y)\n",
    "            optimizer.zero_grad()\n",
    "            loss.backward()\n",
    "            optimizer.step()\n",
    "            #Loss for train\n",
    "            use['train loss'].append(loss.data.item())\n",
    "        correct = 0\n",
    "        for x,y in validationloader:\n",
    "            yhat = model(x.view(-1,28*28))\n",
    "            _,label = torch.max(yhat,1)\n",
    "            correct += (label==y).sum().item()\n",
    "            accuracy = correct/len(validation_data)\n",
    "            use['valid accuracy'].append(accuracy)\n",
    "    return use\n",
    "\n"
   ]
  },
  {
   "cell_type": "code",
   "execution_count": 22,
   "metadata": {},
   "outputs": [],
   "source": [
    "model = Net(784,100,10)\n",
    "optimizer = optim.SGD(model.parameters(), lr=1/40)\n",
    "training_result = train(model,criterion,trainloader,validationloader,optimizer,epochs=100)"
   ]
  },
  {
   "cell_type": "code",
   "execution_count": 26,
   "metadata": {},
   "outputs": [
    {
     "name": "stdout",
     "output_type": "stream",
     "text": [
      "0.05234852805733681\n",
      "0.9593\n"
     ]
    }
   ],
   "source": [
    "print(training_result['train loss'][-1])\n",
    "print(training_result['valid accuracy'][-1])"
   ]
  },
  {
   "cell_type": "code",
   "execution_count": 30,
   "metadata": {},
   "outputs": [
    {
     "data": {
      "image/png": "[encoded data removed]",
      "text/plain": [
       "<Figure size 1000x500 with 2 Axes>"
      ]
     },
     "metadata": {},
     "output_type": "display_data"
    }
   ],
   "source": [
    "plt.figure(figsize=(10, 5))\n",
    "\n",
    "plt.subplot(1, 2, 1)  \n",
    "plt.plot(training_result['train loss'], label='Train Loss')\n",
    "plt.xlabel('Iterations')\n",
    "plt.ylabel('Loss')\n",
    "plt.title('Training Loss')\n",
    "plt.legend()\n",
    "\n",
    "\n",
    "plt.subplot(1, 2, 2)  \n",
    "plt.plot(training_result['valid accuracy'], label='Validation Accuracy', color='green')\n",
    "plt.xlabel('Epochs')\n",
    "plt.ylabel('Accuracy')\n",
    "plt.title('Validation Accuracy')\n",
    "plt.legend()\n",
    "\n",
    "\n",
    "plt.tight_layout()\n",
    "plt.show()"
   ]
  },
  {
   "cell_type": "code",
   "execution_count": 2,
   "metadata": {},
   "outputs": [],
   "source": [
    "def plot_accuracy_loss(training_result): \n",
    "    plt.subplot(2, 1, 1)\n",
    "    plt.plot(training_result['training_loss'], 'r')\n",
    "    plt.ylabel('loss')\n",
    "    plt.title('training loss iterations')\n",
    "    plt.subplot(2, 1, 2)\n",
    "    plt.plot(training_result['validation_accuracy'])\n",
    "    plt.ylabel('accuracy')\n",
    "    plt.xlabel('epochs')   \n",
    "    plt.show()"
   ]
  },
  {
   "cell_type": "markdown",
   "metadata": {},
   "source": [
    "### Deep Neural Network"
   ]
  },
  {
   "cell_type": "code",
   "execution_count": 17,
   "metadata": {},
   "outputs": [],
   "source": [
    "class DeepNN(nn.Module):\n",
    "    def __init__(self,D_in,H1,H2,D_out):\n",
    "        super(DeepNN, self).__init__()\n",
    "        self.linear1 = nn.Linear(D_in,H1)\n",
    "        self.linear2 = nn.Linear(H1,H2)\n",
    "        self.linear3 =nn.Linear(H2,D_out)\n",
    "    def forward(self,x):\n",
    "        x= torch.relu(self.linear1(x))\n",
    "        x=torch.relu(self.linear2(x))\n",
    "        x= self.linear3(x)\n",
    "        return x"
   ]
  },
  {
   "cell_type": "code",
   "execution_count": 65,
   "metadata": {},
   "outputs": [],
   "source": [
    "def train(model,criterion,trainloader,validationloader,optimizer,epochs=10):\n",
    "    i=0\n",
    "    use ={'training_loss':[],'val_acc':[]}\n",
    "    for epoch in range(epochs):\n",
    "        for i,(x,y) in enumerate(trainloader):\n",
    "            z = model(x.view(-1,28*28))\n",
    "            loss = criterion(z,y)\n",
    "            optimizer.zero_grad()\n",
    "            loss.backward()\n",
    "            optimizer.step()\n",
    "            use['training_loss'].append(loss.data.item())\n",
    "        correct = 0\n",
    "        for x,y in validationloader:\n",
    "            z= model(x.view(-1,28*28))\n",
    "            _,label = torch.max(z,1)\n",
    "            correct += (label == y).sum().item()\n",
    "        acc = correct/(len(valdata))\n",
    "        use['val_acc'].append(acc)\n",
    "    print(f'Epoch {epoch+1} :', use['val_acc'][epoch])"
   ]
  },
  {
   "cell_type": "code",
   "execution_count": 63,
   "metadata": {},
   "outputs": [],
   "source": [
    "traindata = dsets.MNIST(root='./data',download = True, train = True, transform= transform.ToTensor())\n",
    "valdata = dsets.MNIST(root='./data',download = True, transform= transform.ToTensor())"
   ]
  },
  {
   "cell_type": "code",
   "execution_count": 64,
   "metadata": {},
   "outputs": [],
   "source": [
    "trainloader = DataLoader(dataset= traindata, batch_size=100, shuffle= True)\n",
    "validationloader = DataLoader(dataset= valdata, batch_size= 1000, shuffle= False)"
   ]
  },
  {
   "cell_type": "code",
   "execution_count": 66,
   "metadata": {},
   "outputs": [],
   "source": [
    "model = DeepNN(784,50,50,10)\n",
    "optimizer = optim.SGD(model.parameters(), lr=0.1)\n",
    "criterion = nn.CrossEntropyLoss()"
   ]
  },
  {
   "cell_type": "code",
   "execution_count": 67,
   "metadata": {},
   "outputs": [
    {
     "name": "stdout",
     "output_type": "stream",
     "text": [
      "Epoch 9 : [0.9158833333333334, 0.9353166666666667, 0.9523, 0.96085, 0.96565, 0.97225, 0.97295, 0.9756, 0.9781666666666666, 0.9758833333333333]\n"
     ]
    }
   ],
   "source": [
    "train(model,criterion,trainloader,validationloader,optimizer,epochs=10)"
   ]
  },
  {
   "cell_type": "code",
   "execution_count": 17,
   "metadata": {},
   "outputs": [
    {
     "name": "stdout",
     "output_type": "stream",
     "text": [
      "Training loss:  0.08146645873785019\n",
      "Validation accuracy:  0.9814666666666667\n"
     ]
    }
   ],
   "source": [
    "print('Training loss: ',train_results['training_loss'][-1])\n",
    "print('Validation accuracy: ',train_results['val_acc'][-1])"
   ]
  },
  {
   "cell_type": "code",
   "execution_count": 19,
   "metadata": {},
   "outputs": [
    {
     "data": {
      "image/png": "[encoded data removed]",
      "text/plain": [
       "<Figure size 640x480 with 1 Axes>"
      ]
     },
     "metadata": {},
     "output_type": "display_data"
    }
   ],
   "source": [
    "plt.plot(train_results['training_loss'])\n",
    "plt.plot(train_results['val_acc'])\n",
    "plt.show()"
   ]
  },
  {
   "cell_type": "markdown",
   "metadata": {},
   "source": [
    "### nn.ModuleList()"
   ]
  },
  {
   "cell_type": "code",
   "execution_count": 12,
   "metadata": {},
   "outputs": [
    {
     "name": "stdout",
     "output_type": "stream",
     "text": [
      "2 3\n",
      "3 4\n",
      "4 5\n"
     ]
    }
   ],
   "source": [
    "Layers =[2,3,4,5]\n",
    "t= zip(Layers,Layers[1:])\n",
    "for i,j in t:\n",
    "    print(i,j)"
   ]
  },
  {
   "cell_type": "code",
   "execution_count": 61,
   "metadata": {},
   "outputs": [],
   "source": [
    "def train_list(model, criterion, trainloader, validationloader, optimizer, epochs = 10):\n",
    "    i=0\n",
    "    use = {'train_loss':[], 'val_acc':[]}\n",
    "    for epoch in range(epochs):\n",
    "        for i,(x,y) in enumerate(trainloader):\n",
    "            z = model(x.view(-1,784))\n",
    "            loss = criterion(z,y)\n",
    "            optimizer.zero_grad()\n",
    "            loss.backward()\n",
    "            optimizer.step()\n",
    "            use['train_loss'].append(loss.data.item())\n",
    "        correct = 0\n",
    "        for x,y in validationloader:\n",
    "            z= model(x.view(-1,784))\n",
    "            _,label = torch.max(z,1)\n",
    "            correct += (label == y).sum().item()\n",
    "        acc = correct/len(valdata)\n",
    "        use['val_acc'].append(acc)\n",
    "    return use"
   ]
  },
  {
   "cell_type": "code",
   "execution_count": 22,
   "metadata": {},
   "outputs": [],
   "source": [
    "class DeepNNList(nn.Module):\n",
    "    def __init__(self,layers):\n",
    "        super(DeepNNList, self).__init__()\n",
    "        self.hidden_layer = nn.ModuleList()\n",
    "        for x,y in zip(layers,layers[1:]):\n",
    "            self.hidden_layer.append(nn.Linear(x,y))\n",
    "    def forward(self,x):\n",
    "        for i,layer in enumerate(self.hidden_layer):\n",
    "            if i< len(self.hidden_layer)-1:\n",
    "                x = torch.relu(layer(x))\n",
    "            else: \n",
    "                x=layer(x)\n",
    "        return x"
   ]
  },
  {
   "cell_type": "code",
   "execution_count": 23,
   "metadata": {},
   "outputs": [],
   "source": [
    "layers = [784,50,50,10]\n",
    "model = DeepNNList(layers)\n",
    "optimizer = optim.SGD(model.parameters(), lr=0.1)\n",
    "criterion = nn.CrossEntropyLoss()"
   ]
  },
  {
   "cell_type": "code",
   "execution_count": null,
   "metadata": {},
   "outputs": [],
   "source": [
    "train_result = train_list(model, criterion, trainloader, validationloader, optimizer, epochs = 10)\n"
   ]
  },
  {
   "cell_type": "code",
   "execution_count": 27,
   "metadata": {},
   "outputs": [
    {
     "name": "stdout",
     "output_type": "stream",
     "text": [
      "0.12726551294326782\n",
      "0.9801666666666666\n"
     ]
    }
   ],
   "source": [
    "print(train_result['train_loss'][-1])\n",
    "print(train_result['val_acc'][-1])"
   ]
  },
  {
   "cell_type": "markdown",
   "metadata": {},
   "source": [
    "### Drop out()"
   ]
  },
  {
   "cell_type": "markdown",
   "metadata": {},
   "source": [
    "Simply add dropout into each layer"
   ]
  },
  {
   "cell_type": "code",
   "execution_count": 30,
   "metadata": {},
   "outputs": [],
   "source": [
    "class DNN(nn.Module):\n",
    "    def __init__(self, D_in,H,D_out, p =0):\n",
    "        super(DNN, self).__init__()\n",
    "        self.linear1 = nn.Linear(D_in,H)\n",
    "        self.linear2 = nn.Linear(H,D_out)\n",
    "        self.linear3 = nn.Linear(H,H)\n",
    "        self.drop = nn.Dropout(p=p)\n",
    "    def forward(self,x):\n",
    "        x= torch.relu(self.drop(self.linear1(x)))\n",
    "        x= torch.relu(self.drop(self.linear3(x)))\n",
    "        x = self.linear(2)\n",
    "        return x"
   ]
  },
  {
   "cell_type": "markdown",
   "metadata": {},
   "source": [
    "### Initialization"
   ]
  },
  {
   "cell_type": "markdown",
   "metadata": {},
   "source": [
    "- Xavier Initializer : Use for sigmoid, tanh\n",
    "- He Initializer : Use for Relu"
   ]
  },
  {
   "cell_type": "code",
   "execution_count": 60,
   "metadata": {},
   "outputs": [],
   "source": [
    "class DNN(nn.Module):\n",
    "    def __init__(self, D_in,H,D_out, p =0):\n",
    "        super(DNN, self).__init__()\n",
    "        self.linear1 = nn.Linear(D_in,H)\n",
    "        nn.init.xavier_uniform_(self.linear1.weight)\n",
    "        # nn.init.kaiming_uniform_(self.linear1.weight)\n",
    "        self.linear2 = nn.Linear(H,D_out)\n",
    "        nn.init.xavier_normal_(self.linear2.weight)\n",
    "        self.linear3 = nn.Linear(H,H)\n",
    "        nn.init.xavier_normal_(self.linear3.weight)\n",
    "        self.drop = nn.Dropout(p=p)\n",
    "    def forward(self,x):\n",
    "        x= torch.relu(self.drop(self.linear1(x)))\n",
    "        x= torch.relu(self.drop(self.linear3(x)))\n",
    "        x = self.linear(2)\n",
    "        return x"
   ]
  },
  {
   "cell_type": "markdown",
   "metadata": {},
   "source": [
    "### CNN"
   ]
  },
  {
   "cell_type": "code",
   "execution_count": 57,
   "metadata": {},
   "outputs": [],
   "source": [
    "class CNN(nn.Module):\n",
    "    def __init__(self,out1,out2):\n",
    "        super(CNN,self).__init__()\n",
    "        self.con1= nn.Conv2d(1,out1, kernel_size=5, stride=1)\n",
    "        self.con2= nn.Conv2d(out1,out2, kernel_size=5, stride=1)\n",
    "        self.pool = nn.MaxPool2d(kernel_size=2)\n",
    "        # self.fc1 = nn.Linear(out2*7*7,out3) #Fully-connected layer\n",
    "        self.fc2 = nn.Linear(out2*4*4, 10)\n",
    "        self.out2 = out2\n",
    "    def forward(self,x):\n",
    "        x= torch.relu(self.con1(x))\n",
    "        x = self.pool(x)\n",
    "        x= torch.relu(self.con2(x))\n",
    "        x= self.pool(x)\n",
    "        x = x.view(x.size(0),-1)\n",
    "        # x= torch.relu(self.fc1(x))\n",
    "        x= self.fc2(x)\n",
    "        return x"
   ]
  },
  {
   "cell_type": "code",
   "execution_count": 42,
   "metadata": {},
   "outputs": [],
   "source": [
    "def train(model, criterion, trainloader, validationloader, optimizer, epochs = 10):\n",
    "    i=0\n",
    "    use = {'train_loss': [],'val_acc':[]}\n",
    "    for epoch in range(epochs):\n",
    "        model.train()\n",
    "        for i,(x,y) in enumerate(trainloader):\n",
    "            z=model(x)\n",
    "            optimizer.zero_grad()\n",
    "            loss = criterion(z,y)\n",
    "            loss.backward()\n",
    "            optimizer.step()\n",
    "            use['train_loss'].append(loss.data.item())\n",
    "        model.eval()\n",
    "        correct  = 0\n",
    "        for x,y in validationloader:\n",
    "            z=model(x)\n",
    "            _,label = torch.max(z.data,1)\n",
    "            correct += (label == y).sum().item()\n",
    "        acc = 100*(correct/len(valdata))\n",
    "        use['val_acc'].append(acc)\n",
    "        print(use['train_loss'][epoch],use['val_acc'][epoch])"
   ]
  },
  {
   "cell_type": "code",
   "execution_count": 36,
   "metadata": {},
   "outputs": [],
   "source": [
    "traindata = dsets.MNIST(root='./data',train=True, download=True, transform=transform.ToTensor())\n",
    "valdata = dsets.MNIST(root='./data', download=True, transform=transform.ToTensor())"
   ]
  },
  {
   "cell_type": "code",
   "execution_count": 37,
   "metadata": {},
   "outputs": [],
   "source": [
    "trainloader = DataLoader(dataset=traindata, batch_size= 100, shuffle=True)\n",
    "validationloader = DataLoader(dataset=valdata, batch_size=1000, shuffle=False)"
   ]
  },
  {
   "cell_type": "code",
   "execution_count": 58,
   "metadata": {},
   "outputs": [],
   "source": [
    "model = CNN(32,64)\n",
    "criterion = nn.CrossEntropyLoss()\n",
    "optimizer = optim.SGD(model.parameters(),lr = 1/40)"
   ]
  },
  {
   "cell_type": "code",
   "execution_count": 59,
   "metadata": {},
   "outputs": [
    {
     "name": "stdout",
     "output_type": "stream",
     "text": [
      "2.3235862255096436 94.685\n",
      "2.315227508544922 96.50833333333333\n",
      "2.3189585208892822 97.31666666666666\n",
      "2.3011085987091064 97.75\n",
      "2.2985126972198486 97.88666666666667\n",
      "2.3020434379577637 98.18166666666667\n",
      "2.2877390384674072 98.26333333333334\n",
      "2.292538642883301 98.45666666666666\n",
      "2.280078172683716 98.63666666666666\n",
      "2.275775671005249 98.65\n"
     ]
    }
   ],
   "source": [
    "train(model, criterion, trainloader, validationloader, optimizer, epochs = 10)"
   ]
  }
 ],
 "metadata": {
  "kernelspec": {
   "display_name": "CV",
   "language": "python",
   "name": "python3"
  },
  "language_info": {
   "codemirror_mode": {
    "name": "ipython",
    "version": 3
   },
   "file_extension": ".py",
   "mimetype": "text/x-python",
   "name": "python",
   "nbconvert_exporter": "python",
   "pygments_lexer": "ipython3",
   "version": "3.11.5"
  }
 },
 "nbformat": 4,
 "nbformat_minor": 2
}
